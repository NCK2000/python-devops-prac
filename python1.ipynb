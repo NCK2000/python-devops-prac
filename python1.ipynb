{
  "nbformat": 4,
  "nbformat_minor": 0,
  "metadata": {
    "colab": {
      "provenance": [],
      "toc_visible": true,
      "authorship_tag": "ABX9TyNm6YHtaVbsjWM3yTqitAV5",
      "include_colab_link": true
    },
    "kernelspec": {
      "name": "python3",
      "display_name": "Python 3"
    },
    "language_info": {
      "name": "python"
    }
  },
  "cells": [
    {
      "cell_type": "markdown",
      "metadata": {
        "id": "view-in-github",
        "colab_type": "text"
      },
      "source": [
        "<a href=\"https://colab.research.google.com/github/NCK2000/python-devops-prac/blob/main/python1.ipynb\" target=\"_parent\"><img src=\"https://colab.research.google.com/assets/colab-badge.svg\" alt=\"Open In Colab\"/></a>"
      ]
    },
    {
      "cell_type": "markdown",
      "source": [
        "##intro\n"
      ],
      "metadata": {
        "id": "PftySdbHwcmf"
      }
    },
    {
      "cell_type": "code",
      "source": [],
      "metadata": {
        "id": "LoEek6_p4gft"
      },
      "execution_count": null,
      "outputs": []
    },
    {
      "cell_type": "markdown",
      "source": [
        "##statements"
      ],
      "metadata": {
        "id": "3BWy_PYjxRAT"
      }
    },
    {
      "cell_type": "code",
      "source": [
        "print(\"abcd\")"
      ],
      "metadata": {
        "colab": {
          "base_uri": "https://localhost:8080/"
        },
        "id": "9GQuE6ug4iBR",
        "outputId": "15c4fa7e-9b6b-47b4-a951-150a60c99b2f"
      },
      "execution_count": 3,
      "outputs": [
        {
          "output_type": "stream",
          "name": "stdout",
          "text": [
            "abcd\n"
          ]
        }
      ]
    },
    {
      "cell_type": "markdown",
      "source": [
        "# Mục mới"
      ],
      "metadata": {
        "id": "7JwL9Pgg43eF"
      }
    }
  ]
}